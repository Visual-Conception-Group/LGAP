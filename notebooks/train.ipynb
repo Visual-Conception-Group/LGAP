{
 "cells": [
  {
   "cell_type": "code",
   "execution_count": 1,
   "metadata": {},
   "outputs": [],
   "source": [
    "import os\n",
    "os.environ[\"CUDA_VISIBLE_DEVICES\"] = \"6\"\n",
    "\n",
    "import torch\n",
    "import torch.nn as nn\n",
    "import torch.optim as optim\n",
    "from torch.optim import lr_scheduler\n",
    "import numpy as np\n",
    "import torchvision\n",
    "from torchvision import datasets, models, transforms\n",
    "from torchvision.utils import save_image\n",
    "from torchvision.io import read_image\n",
    "from torch.utils.data import DataLoader,Dataset, ConcatDataset, Subset\n",
    "# import torchsummary\n",
    "import torchattacks\n",
    "from autoattack import AutoAttack\n",
    "from pytorchcv.model_provider import get_model as ptcv_get_model\n",
    " \n",
    "import time\n",
    "import os\n",
    "import copy\n",
    "import robustbench\n",
    "from robustbench.data import load_cifar10\n",
    "from robustbench.utils import load_model, clean_accuracy\n",
    "from scripts.custom_Dataset import CustomDataset\n",
    "\n",
    "\n",
    "device = torch.device(\"cuda\" if torch.cuda.is_available() else \"cpu\")"
   ]
  },
  {
   "cell_type": "code",
   "execution_count": 2,
   "metadata": {},
   "outputs": [],
   "source": [
    "def train_model(model, criterion, optimizer, scheduler, trainloader, num_epochs=15):\n",
    "    global train_dataset_1\n",
    "    since = time.time()\n",
    "\n",
    "    best_model_wts = copy.deepcopy(model.state_dict())\n",
    "    best_acc = 0.0\n",
    "\n",
    "    for epoch in range(num_epochs):\n",
    "        print(f'Epoch {epoch}/{num_epochs - 1}')\n",
    "        print('-' * 10)\n",
    "\n",
    "        # Each epoch has a training and validation phase\n",
    "        model.train()  # Set model to training mode\n",
    "        running_loss = 0.0\n",
    "        running_corrects = 0\n",
    "\n",
    "        # Iterate over data.\n",
    "        for inputs, labels in trainloader:\n",
    "            inputs = inputs.to(device)\n",
    "            labels = labels.to(device)\n",
    "\n",
    "            # zero the parameter gradients\n",
    "            optimizer.zero_grad()\n",
    "\n",
    "            # forward\n",
    "            # track history if only in train\n",
    "            with torch.set_grad_enabled(True):\n",
    "                outputs = model(inputs)\n",
    "                _, preds = torch.max(outputs, 1)\n",
    "                loss = criterion(outputs, labels)\n",
    "\n",
    "                # backward + optimize only if in training phase\n",
    "                loss.backward()\n",
    "                optimizer.step()\n",
    "\n",
    "            # statistics\n",
    "            running_loss += loss.item() * inputs.size(0)\n",
    "            running_corrects += torch.sum(preds == labels.data)\n",
    "        # scheduler.step()\n",
    "\n",
    "        epoch_loss = running_loss / len(train_dataset)\n",
    "        epoch_acc = running_corrects.double() / len(train_dataset)\n",
    "\n",
    "        print(f'Train Loss: {epoch_loss:.4f} Acc: {epoch_acc:.4f}')\n",
    "\n",
    "        # deep copy the model\n",
    "        if epoch_acc > best_acc:\n",
    "            best_acc = epoch_acc\n",
    "            best_model_wts = copy.deepcopy(model.state_dict())\n",
    "\n",
    "        print()\n",
    "\n",
    "    time_elapsed = time.time() - since\n",
    "    print(f'Training complete in {time_elapsed // 60:.0f}m {time_elapsed % 60:.0f}s')\n",
    "    print(f'Best Acc: {best_acc:4f}')\n",
    "\n",
    "    # load best model weights\n",
    "    model.load_state_dict(best_model_wts)\n",
    "    return model\n",
    "\n",
    "class Normalize(nn.Module):\n",
    "    def __init__(self, mean, std):\n",
    "        super(Normalize, self).__init__()\n",
    "        self.mean = torch.Tensor(mean).view(-1, 1, 1)\n",
    "        self.std = torch.Tensor(std).view(-1, 1, 1)\n",
    "\n",
    "    def forward(self, x):\n",
    "        if x.is_cuda:\n",
    "            self.mean = self.mean.to(x.device)\n",
    "            self.std = self.std.to(x.device)\n",
    "        return (x - self.mean) / self.std"
   ]
  },
  {
   "cell_type": "code",
   "execution_count": 7,
   "metadata": {},
   "outputs": [],
   "source": [
    "batch_size = 256\n",
    "num_classes = 100\n",
    "transform = transforms.Compose([transforms.ToTensor()])\n",
    "# transform = transforms.Compose([transforms.ToTensor(),\n",
    "#                                 transforms.Resize((224,224))])\n",
    "image_folder = '../BLIP/experiment_1/cifar100/clean_train_generated/'\n",
    "label_file = '../BLIP/experiment_1/cifar100/clean_train_labels.txt'\n",
    "# # captions_file = \"../BLIP/experiment_1/stl_10/clean_test_captions.txt\"\n",
    "train_dataset = CustomDataset(image_folder, label_file, transform=transform)\n",
    "# train_dataset_2 = torchvision.datasets.CIFAR100(root=\"../data\", train=True, transform=transform)\n",
    "# train_dataset = ConcatDataset([train_dataset_1, train_dataset_2])\n",
    "train_loader = DataLoader(train_dataset, batch_size=batch_size, shuffle=True, num_workers=8)\n",
    "\n",
    "# image_folder = '../BLIP/experiment_1/cifar10/clean_test_generated'\n",
    "# label_file = '../BLIP/experiment_1/cifar10/clean_test_labels.txt'\n",
    "# # captions_file = \"../BLIP/experiment_1/stl_10/clean_test_captions.txt\"\n",
    "# test_dataset = CustomDataset(image_folder, label_file, transform=transform)\n",
    "# test_dataset = torchvision.datasets.CIFAR10(root=\"../data\", train=False, transform=transform)\n",
    "# test_loader = DataLoader(test_dataset, batch_size=batch_size, shuffle=True)"
   ]
  },
  {
   "cell_type": "code",
   "execution_count": 8,
   "metadata": {},
   "outputs": [],
   "source": [
    "mean_rgb = (0.4914, 0.4822, 0.4465)\n",
    "std_rgb = (0.2023, 0.1994, 0.2010)\n",
    "\n",
    "# torch.save(model, \"resnet50_stl10_trained_on_diffusion_images.pth\")\n",
    "# model = torch.load(\"resnet50_stl10.pth\")\n",
    "# model = torch.load(\"resnet50_stl10_trained_on_diffusion_images.pth\")\n",
    "# model = model.to(device)\n",
    "# model = load_model(model_name='Standard_R50', dataset='imagenet', threat_model='Linf')\n",
    "# model = load_model(model_name='Standard', dataset='cifar10', threat_model='Linf')\n",
    "# model =  nn.DataParallel(model).to(device)\n",
    "model = ptcv_get_model(\"wrn28_10_cifar100\", pretrained=True)\n",
    "norm = Normalize(mean_rgb, std_rgb)   \n",
    "model = nn.Sequential(norm, model)\n",
    "model = model.to(device)"
   ]
  },
  {
   "cell_type": "code",
   "execution_count": 5,
   "metadata": {},
   "outputs": [],
   "source": [
    "model.model.fc = nn.Linear(in_features=model.model.fc.in_features,\n",
    "                     out_features=num_classes,\n",
    "                     bias=True)\n",
    "model = model.to(device)"
   ]
  },
  {
   "cell_type": "code",
   "execution_count": 17,
   "metadata": {},
   "outputs": [],
   "source": [
    "criterion = nn.CrossEntropyLoss()\n",
    "optimizer = optim.Adam(model.parameters(), lr=0.0001)\n",
    "exp_lr_scheduler = lr_scheduler.StepLR(optimizer, step_size=7, gamma=0.1)"
   ]
  },
  {
   "cell_type": "code",
   "execution_count": 18,
   "metadata": {},
   "outputs": [
    {
     "name": "stdout",
     "output_type": "stream",
     "text": [
      "Epoch 0/4\n",
      "----------\n"
     ]
    },
    {
     "name": "stdout",
     "output_type": "stream",
     "text": [
      "Train Loss: 0.0260 Acc: 0.9932\n",
      "\n",
      "Epoch 1/4\n",
      "----------\n",
      "Train Loss: 0.0027 Acc: 0.9998\n",
      "\n",
      "Epoch 2/4\n",
      "----------\n",
      "Train Loss: 0.0013 Acc: 1.0000\n",
      "\n",
      "Epoch 3/4\n",
      "----------\n",
      "Train Loss: 0.0007 Acc: 1.0000\n",
      "\n",
      "Epoch 4/4\n",
      "----------\n",
      "Train Loss: 0.0004 Acc: 1.0000\n",
      "\n",
      "Training complete in 2m 23s\n",
      "Best Acc: 1.000000\n"
     ]
    }
   ],
   "source": [
    "model = train_model(model, criterion, optimizer, exp_lr_scheduler,\n",
    "                       train_loader, num_epochs=5)"
   ]
  },
  {
   "cell_type": "code",
   "execution_count": 23,
   "metadata": {},
   "outputs": [],
   "source": [
    "# torch.save(model, \"resnet_50_pretrained_cifar10_trained_on_diffusion_2.pth\")"
   ]
  },
  {
   "cell_type": "code",
   "execution_count": 11,
   "metadata": {},
   "outputs": [],
   "source": [
    "from tqdm import tqdm\n",
    "\n",
    "\n",
    "def calculate_accuracy(model, dataloader):\n",
    "    total_samples = 0\n",
    "    correct_predictions = 0\n",
    "    model = model.eval()\n",
    "    with torch.no_grad():\n",
    "        for images, labels in tqdm(dataloader):\n",
    "            images = images.to(device)\n",
    "            labels = labels.to(device)\n",
    "\n",
    "            outputs = model(images)\n",
    "            _, predicted = torch.max(outputs, dim=1)\n",
    "\n",
    "            total_samples += labels.size(0)\n",
    "            correct_predictions += (predicted == labels).sum().item()\n",
    "\n",
    "    accuracy = correct_predictions / total_samples\n",
    "    return accuracy"
   ]
  },
  {
   "cell_type": "code",
   "execution_count": 29,
   "metadata": {},
   "outputs": [],
   "source": [
    "image_folder = '../BLIP/experiment_1/cifar100/clean_test_generated/'\n",
    "label_file = '../BLIP/experiment_1/cifar100/clean_test_labels_test.txt'\n",
    "test_dataset = CustomDataset(image_folder, label_file, transform=transform, num=8160)\n",
    "# test_dataset = datasets.CIFAR100(\"../data/\", train=False, transform=transform)\n",
    "test_loader = DataLoader(test_dataset, batch_size=batch_size, num_workers=8)\n"
   ]
  },
  {
   "cell_type": "code",
   "execution_count": 30,
   "metadata": {},
   "outputs": [
    {
     "name": "stderr",
     "output_type": "stream",
     "text": [
      "100%|██████████| 32/32 [00:02<00:00, 14.60it/s]\n"
     ]
    },
    {
     "data": {
      "text/plain": [
       "0.5870098039215687"
      ]
     },
     "execution_count": 30,
     "metadata": {},
     "output_type": "execute_result"
    }
   ],
   "source": [
    "calculate_accuracy(model, test_loader)"
   ]
  },
  {
   "cell_type": "code",
   "execution_count": 28,
   "metadata": {},
   "outputs": [],
   "source": [
    "torch.save(model, \"wrn28_10_cifar100_trained_on_diffusion_images.pth\")\n",
    "# model = torch.load(\"resnet50_stl10.pth\")"
   ]
  },
  {
   "cell_type": "code",
   "execution_count": 23,
   "metadata": {},
   "outputs": [],
   "source": [
    "model2 = ptcv_get_model(\"wrn28_10_cifar100\", pretrained=True)\n",
    "norm2 = Normalize(mean_rgb, std_rgb)   \n",
    "model2 = nn.Sequential(norm2, model2)\n",
    "model2 = model2.to(device)"
   ]
  },
  {
   "cell_type": "code",
   "execution_count": null,
   "metadata": {},
   "outputs": [],
   "source": []
  }
 ],
 "metadata": {
  "kernelspec": {
   "display_name": "ldmblip",
   "language": "python",
   "name": "python3"
  },
  "language_info": {
   "codemirror_mode": {
    "name": "ipython",
    "version": 3
   },
   "file_extension": ".py",
   "mimetype": "text/x-python",
   "name": "python",
   "nbconvert_exporter": "python",
   "pygments_lexer": "ipython3",
   "version": "3.8.5"
  },
  "orig_nbformat": 4
 },
 "nbformat": 4,
 "nbformat_minor": 2
}
