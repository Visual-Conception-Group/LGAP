{
 "cells": [
  {
   "cell_type": "code",
   "execution_count": null,
   "metadata": {},
   "outputs": [],
   "source": []
  },
  {
   "cell_type": "code",
   "execution_count": 1,
   "metadata": {},
   "outputs": [],
   "source": [
    "import os\n",
    "os.environ[\"CUDA_VISIBLE_DEVICES\"] = \"7\"\n",
    "\n",
    "import torch\n",
    "import torch.nn as nn\n",
    "import torch.optim as optim\n",
    "from torch.optim import lr_scheduler\n",
    "import numpy as np\n",
    "import torchvision\n",
    "from torchvision import datasets, models, transforms\n",
    "from torchvision.utils import save_image\n",
    "from torchvision.io import read_image\n",
    "from torch.utils.data import DataLoader,Dataset, ConcatDataset\n",
    "# import torchsummary\n",
    "import torchattacks\n",
    "from autoattack import AutoAttack\n",
    "import timm\n",
    " \n",
    "import time\n",
    "import os\n",
    "import copy\n",
    "import robustbench\n",
    "from robustbench.data import load_cifar10\n",
    "from robustbench.utils import load_model, clean_accuracy\n",
    "from scripts.custom_Dataset import CustomDataset\n",
    "\n",
    "\n",
    "device = torch.device(\"cuda\" if torch.cuda.is_available() else \"cpu\")"
   ]
  },
  {
   "cell_type": "code",
   "execution_count": 2,
   "metadata": {},
   "outputs": [],
   "source": [
    "normalize = transforms.Normalize(mean=[0.485, 0.456, 0.406],\n",
    "                                 std=[0.229, 0.224, 0.225])\n",
    "transform = transforms.Compose([transforms.ToTensor(),])\n",
    "                                # transforms.Resize((96,96)),\n",
    "                    #   normalize])\n",
    "invTrans = transforms.Compose([ transforms.Normalize(mean = [ 0., 0., 0. ],\n",
    "                                                     std = [ 1/0.229, 1/0.224, 1/0.225 ]),\n",
    "                                transforms.Normalize(mean = [ -0.485, -0.456, -0.406 ],\n",
    "                                                     std = [ 1., 1., 1. ]),\n",
    "                               ])\n",
    "batch_size = 2048\n",
    "# num_classes = 1000\n",
    "\n",
    "imagenet_transform = transforms.Compose([\n",
    "        transforms.Resize(256),\n",
    "        transforms.CenterCrop(224),\n",
    "        transforms.ToTensor()\n",
    "    ])\n",
    "test_loader = DataLoader(torchvision.datasets.ImageNet(root=\"../data/\", split=\"val\", transform=imagenet_transform),batch_size=batch_size,num_workers=8)"
   ]
  },
  {
   "cell_type": "code",
   "execution_count": 3,
   "metadata": {},
   "outputs": [],
   "source": [
    "# image_folder = '../BLIP/experiment_1/imagenet/clean_test_2048/'\n",
    "# label_file = '../BLIP/experiment_1/imagenet/clean_test_labels_2048.txt'\n",
    "image_folder = '../BLIP/experiment_1/cifar10/clean_test/'\n",
    "label_file = '../BLIP/experiment_1/cifar10/clean_test_labels.txt'\n",
    "# # captions_file = \"../BLIP/experiment_1/stl_10/clean_test_captions.txt\"\n",
    "test_dataset = CustomDataset(image_folder, label_file, transform=transform)\n",
    "test_loader = DataLoader(test_dataset, batch_size=batch_size, shuffle=False, num_workers=8)\n"
   ]
  },
  {
   "cell_type": "code",
   "execution_count": 4,
   "metadata": {},
   "outputs": [],
   "source": [
    "# model = models.resnet50(pretrained=True)\n",
    "# model = load_model(model_name='Standard', dataset='cifar10', threat_model='Linf').eval()\n",
    "# model = load_model(model_name='Standard_R50', dataset='imagenet', threat_model='Linf').eval()\n",
    "model = torch.load(\"wrn28_10_cifar10_trained_on_diffusion_images_only.pth\").module.eval()\n",
    "# model = timm.create_model('wide_resnet50_2', pretrained=True).cuda().eval()\n",
    "model = nn.DataParallel(model).to(device).eval()"
   ]
  },
  {
   "cell_type": "code",
   "execution_count": 5,
   "metadata": {},
   "outputs": [],
   "source": [
    "\n",
    "images_list = []\n",
    "labels_list = []\n",
    "\n",
    "for images, labels in test_loader:\n",
    "    images_list.append(images)\n",
    "    labels_list.append(labels)\n",
    "\n",
    "# Concatenate all batches\n",
    "x = torch.cat(images_list, 0)\n",
    "y = torch.cat(labels_list, 0)\n"
   ]
  },
  {
   "cell_type": "code",
   "execution_count": 6,
   "metadata": {},
   "outputs": [
    {
     "data": {
      "text/plain": [
       "50000"
      ]
     },
     "execution_count": 6,
     "metadata": {},
     "output_type": "execute_result"
    }
   ],
   "source": [
    "len(x)"
   ]
  },
  {
   "cell_type": "code",
   "execution_count": 7,
   "metadata": {},
   "outputs": [
    {
     "name": "stdout",
     "output_type": "stream",
     "text": [
      "setting parameters for standard version\n"
     ]
    }
   ],
   "source": [
    "# adversary = AutoAttack(model, norm='Linf', eps=4/255, version='standard', attacks_to_run=['apgd-ce', 'apgd-dlr'], device=device)\n",
    "adversary = AutoAttack(model, norm=\"Linf\", eps=4/255, device=device)\n",
    "# adversary.apgd.n_restarts = 1"
   ]
  },
  {
   "cell_type": "code",
   "execution_count": 8,
   "metadata": {},
   "outputs": [
    {
     "name": "stdout",
     "output_type": "stream",
     "text": [
      "using standard version including apgd-ce, apgd-t, fab-t, square.\n",
      "initial accuracy: 80.00%\n",
      "apgd-ce - 1/79 - 512 out of 512 successfully perturbed\n",
      "apgd-ce - 2/79 - 512 out of 512 successfully perturbed\n",
      "apgd-ce - 3/79 - 512 out of 512 successfully perturbed\n",
      "apgd-ce - 4/79 - 512 out of 512 successfully perturbed\n",
      "apgd-ce - 5/79 - 512 out of 512 successfully perturbed\n",
      "apgd-ce - 6/79 - 512 out of 512 successfully perturbed\n",
      "apgd-ce - 7/79 - 512 out of 512 successfully perturbed\n",
      "apgd-ce - 8/79 - 512 out of 512 successfully perturbed\n",
      "apgd-ce - 9/79 - 512 out of 512 successfully perturbed\n",
      "apgd-ce - 10/79 - 512 out of 512 successfully perturbed\n",
      "apgd-ce - 11/79 - 512 out of 512 successfully perturbed\n",
      "apgd-ce - 12/79 - 512 out of 512 successfully perturbed\n",
      "apgd-ce - 13/79 - 512 out of 512 successfully perturbed\n",
      "apgd-ce - 14/79 - 512 out of 512 successfully perturbed\n",
      "apgd-ce - 15/79 - 512 out of 512 successfully perturbed\n",
      "apgd-ce - 16/79 - 512 out of 512 successfully perturbed\n",
      "apgd-ce - 17/79 - 512 out of 512 successfully perturbed\n",
      "apgd-ce - 18/79 - 512 out of 512 successfully perturbed\n",
      "apgd-ce - 19/79 - 512 out of 512 successfully perturbed\n",
      "apgd-ce - 20/79 - 512 out of 512 successfully perturbed\n",
      "apgd-ce - 21/79 - 512 out of 512 successfully perturbed\n",
      "apgd-ce - 22/79 - 512 out of 512 successfully perturbed\n",
      "apgd-ce - 23/79 - 512 out of 512 successfully perturbed\n",
      "apgd-ce - 24/79 - 512 out of 512 successfully perturbed\n",
      "apgd-ce - 25/79 - 512 out of 512 successfully perturbed\n",
      "apgd-ce - 26/79 - 512 out of 512 successfully perturbed\n",
      "apgd-ce - 27/79 - 512 out of 512 successfully perturbed\n",
      "apgd-ce - 28/79 - 512 out of 512 successfully perturbed\n",
      "apgd-ce - 29/79 - 512 out of 512 successfully perturbed\n",
      "apgd-ce - 30/79 - 512 out of 512 successfully perturbed\n",
      "apgd-ce - 31/79 - 512 out of 512 successfully perturbed\n",
      "apgd-ce - 32/79 - 512 out of 512 successfully perturbed\n",
      "apgd-ce - 33/79 - 512 out of 512 successfully perturbed\n",
      "apgd-ce - 34/79 - 512 out of 512 successfully perturbed\n",
      "apgd-ce - 35/79 - 512 out of 512 successfully perturbed\n",
      "apgd-ce - 36/79 - 512 out of 512 successfully perturbed\n",
      "apgd-ce - 37/79 - 512 out of 512 successfully perturbed\n",
      "apgd-ce - 38/79 - 512 out of 512 successfully perturbed\n",
      "apgd-ce - 39/79 - 512 out of 512 successfully perturbed\n",
      "apgd-ce - 40/79 - 512 out of 512 successfully perturbed\n",
      "apgd-ce - 41/79 - 512 out of 512 successfully perturbed\n",
      "apgd-ce - 42/79 - 512 out of 512 successfully perturbed\n",
      "apgd-ce - 43/79 - 512 out of 512 successfully perturbed\n",
      "apgd-ce - 44/79 - 512 out of 512 successfully perturbed\n",
      "apgd-ce - 45/79 - 512 out of 512 successfully perturbed\n",
      "apgd-ce - 46/79 - 512 out of 512 successfully perturbed\n",
      "apgd-ce - 47/79 - 512 out of 512 successfully perturbed\n",
      "apgd-ce - 48/79 - 512 out of 512 successfully perturbed\n",
      "apgd-ce - 49/79 - 512 out of 512 successfully perturbed\n",
      "apgd-ce - 50/79 - 512 out of 512 successfully perturbed\n",
      "apgd-ce - 51/79 - 512 out of 512 successfully perturbed\n",
      "apgd-ce - 52/79 - 512 out of 512 successfully perturbed\n",
      "apgd-ce - 53/79 - 512 out of 512 successfully perturbed\n",
      "apgd-ce - 54/79 - 512 out of 512 successfully perturbed\n",
      "apgd-ce - 55/79 - 512 out of 512 successfully perturbed\n",
      "apgd-ce - 56/79 - 512 out of 512 successfully perturbed\n",
      "apgd-ce - 57/79 - 512 out of 512 successfully perturbed\n",
      "apgd-ce - 58/79 - 512 out of 512 successfully perturbed\n",
      "apgd-ce - 59/79 - 512 out of 512 successfully perturbed\n",
      "apgd-ce - 60/79 - 512 out of 512 successfully perturbed\n",
      "apgd-ce - 61/79 - 512 out of 512 successfully perturbed\n",
      "apgd-ce - 62/79 - 512 out of 512 successfully perturbed\n",
      "apgd-ce - 63/79 - 512 out of 512 successfully perturbed\n",
      "apgd-ce - 64/79 - 512 out of 512 successfully perturbed\n",
      "apgd-ce - 65/79 - 512 out of 512 successfully perturbed\n",
      "apgd-ce - 66/79 - 512 out of 512 successfully perturbed\n",
      "apgd-ce - 67/79 - 512 out of 512 successfully perturbed\n",
      "apgd-ce - 68/79 - 512 out of 512 successfully perturbed\n",
      "apgd-ce - 69/79 - 512 out of 512 successfully perturbed\n",
      "apgd-ce - 70/79 - 512 out of 512 successfully perturbed\n",
      "apgd-ce - 71/79 - 512 out of 512 successfully perturbed\n",
      "apgd-ce - 72/79 - 512 out of 512 successfully perturbed\n",
      "apgd-ce - 73/79 - 512 out of 512 successfully perturbed\n",
      "apgd-ce - 74/79 - 512 out of 512 successfully perturbed\n",
      "apgd-ce - 75/79 - 512 out of 512 successfully perturbed\n",
      "apgd-ce - 76/79 - 512 out of 512 successfully perturbed\n",
      "apgd-ce - 77/79 - 512 out of 512 successfully perturbed\n",
      "apgd-ce - 78/79 - 512 out of 512 successfully perturbed\n",
      "apgd-ce - 79/79 - 64 out of 64 successfully perturbed\n",
      "robust accuracy after APGD-CE: 0.00% (total time 3821.1 s)\n",
      "max Linf perturbation: 0.01569, nan in tensor: 0, max: 1.00000, min: 0.00000\n",
      "robust accuracy: 0.00%\n"
     ]
    }
   ],
   "source": [
    "x_adv = adversary.run_standard_evaluation(x, y, 512)"
   ]
  },
  {
   "cell_type": "code",
   "execution_count": 8,
   "metadata": {},
   "outputs": [
    {
     "data": {
      "text/plain": [
       "0.0009"
      ]
     },
     "execution_count": 8,
     "metadata": {},
     "output_type": "execute_result"
    }
   ],
   "source": [
    "clean_accuracy(model, x_adv, y, device=device, batch_size=128)"
   ]
  },
  {
   "cell_type": "code",
   "execution_count": 9,
   "metadata": {},
   "outputs": [],
   "source": [
    "#save images\n",
    "count = 0\n",
    "label_list = []\n",
    "for a_i in x_adv:\n",
    "    save_image(a_i, \"../BLIP/experiment_1/imagenet/adv_test_standard_aa_Linf_eps_4_wrn50_2/{}.png\".format(count))\n",
    "    count +=1"
   ]
  },
  {
   "cell_type": "code",
   "execution_count": null,
   "metadata": {},
   "outputs": [],
   "source": [
    "inputFile = \"../BLIP/experiment_1/imagenet/clean_test_labels_50K.txt\"\n",
    "\n",
    "# Opening the given file in write mode\n",
    "with open(inputFile, 'w') as filedata:\n",
    "\n",
    "   # Traverse in each element of the input list \n",
    "   for item in y.cpu():\n",
    "   \n",
    "      # Writing each element of the list into the file\n",
    "      # Here “%s\\n” % syntax is used to move to the next line after adding an item to the file.\n",
    "        filedata.write(\"%s\\n\" % item.numpy().item())"
   ]
  }
 ],
 "metadata": {
  "kernelspec": {
   "display_name": "ldmblip",
   "language": "python",
   "name": "python3"
  },
  "language_info": {
   "codemirror_mode": {
    "name": "ipython",
    "version": 3
   },
   "file_extension": ".py",
   "mimetype": "text/x-python",
   "name": "python",
   "nbconvert_exporter": "python",
   "pygments_lexer": "ipython3",
   "version": "3.8.5"
  },
  "orig_nbformat": 4
 },
 "nbformat": 4,
 "nbformat_minor": 2
}
